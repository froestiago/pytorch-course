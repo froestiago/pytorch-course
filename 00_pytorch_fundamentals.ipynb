{
  "nbformat": 4,
  "nbformat_minor": 0,
  "metadata": {
    "colab": {
      "provenance": [],
      "gpuType": "T4"
    },
    "kernelspec": {
      "name": "python3",
      "display_name": "Python 3"
    },
    "language_info": {
      "name": "python"
    },
    "accelerator": "GPU"
  },
  "cells": [
    {
      "cell_type": "markdown",
      "source": [
        "## 00. pytorch fundamentals\n",
        "\n",
        "resource notebook - https://github.com/mrdbourke/pytorch-deep-learning/blob/main/00_pytorch_fundamentals.ipynb"
      ],
      "metadata": {
        "id": "11p-Cn5VRL0V"
      }
    },
    {
      "cell_type": "code",
      "source": [
        "import torch\n",
        "import pandas as pd\n",
        "import numpy as np\n",
        "import matplotlib.pyplot as plt\n",
        "print(torch.__version__)"
      ],
      "metadata": {
        "colab": {
          "base_uri": "https://localhost:8080/"
        },
        "id": "XOfbh3z1RYG6",
        "outputId": "c483c461-f134-4045-f00e-c981c4ee9f39"
      },
      "execution_count": null,
      "outputs": [
        {
          "output_type": "stream",
          "name": "stdout",
          "text": [
            "2.0.1+cu118\n"
          ]
        }
      ]
    },
    {
      "cell_type": "code",
      "source": [
        "!nvidia-smi #does not work when using CPU"
      ],
      "metadata": {
        "colab": {
          "base_uri": "https://localhost:8080/"
        },
        "id": "qW_mNh65RjZi",
        "outputId": "14228d38-671f-40f8-a4a9-603e8a7e4963"
      },
      "execution_count": null,
      "outputs": [
        {
          "output_type": "stream",
          "name": "stdout",
          "text": [
            "Sat Sep 30 18:43:20 2023       \n",
            "+-----------------------------------------------------------------------------+\n",
            "| NVIDIA-SMI 525.105.17   Driver Version: 525.105.17   CUDA Version: 12.0     |\n",
            "|-------------------------------+----------------------+----------------------+\n",
            "| GPU  Name        Persistence-M| Bus-Id        Disp.A | Volatile Uncorr. ECC |\n",
            "| Fan  Temp  Perf  Pwr:Usage/Cap|         Memory-Usage | GPU-Util  Compute M. |\n",
            "|                               |                      |               MIG M. |\n",
            "|===============================+======================+======================|\n",
            "|   0  Tesla T4            Off  | 00000000:00:04.0 Off |                    0 |\n",
            "| N/A   48C    P8    10W /  70W |      0MiB / 15360MiB |      0%      Default |\n",
            "|                               |                      |                  N/A |\n",
            "+-------------------------------+----------------------+----------------------+\n",
            "                                                                               \n",
            "+-----------------------------------------------------------------------------+\n",
            "| Processes:                                                                  |\n",
            "|  GPU   GI   CI        PID   Type   Process name                  GPU Memory |\n",
            "|        ID   ID                                                   Usage      |\n",
            "|=============================================================================|\n",
            "|  No running processes found                                                 |\n",
            "+-----------------------------------------------------------------------------+\n"
          ]
        }
      ]
    },
    {
      "cell_type": "markdown",
      "source": [
        "## creating tensors"
      ],
      "metadata": {
        "id": "D97PYM87TvaS"
      }
    },
    {
      "cell_type": "code",
      "source": [
        "#scalar\n",
        "scalar = torch.tensor(7)\n",
        "scalar"
      ],
      "metadata": {
        "colab": {
          "base_uri": "https://localhost:8080/"
        },
        "id": "P-G5XSnORo5N",
        "outputId": "633a1e86-5860-4c0b-ddca-3c2b544d413d"
      },
      "execution_count": null,
      "outputs": [
        {
          "output_type": "execute_result",
          "data": {
            "text/plain": [
              "tensor(7)"
            ]
          },
          "metadata": {},
          "execution_count": 3
        }
      ]
    },
    {
      "cell_type": "code",
      "source": [
        "scalar.ndim"
      ],
      "metadata": {
        "colab": {
          "base_uri": "https://localhost:8080/"
        },
        "id": "cCD3jd5NUMzN",
        "outputId": "135f8188-71fb-4571-bdea-e3101c0d7b2e"
      },
      "execution_count": null,
      "outputs": [
        {
          "output_type": "execute_result",
          "data": {
            "text/plain": [
              "0"
            ]
          },
          "metadata": {},
          "execution_count": 4
        }
      ]
    },
    {
      "cell_type": "code",
      "source": [
        "#get tensor back as oythin in\n",
        "scalar.item()"
      ],
      "metadata": {
        "colab": {
          "base_uri": "https://localhost:8080/"
        },
        "id": "EBeefk5KUjy2",
        "outputId": "2a01d963-ac05-4210-e1de-484c5b3586e1"
      },
      "execution_count": null,
      "outputs": [
        {
          "output_type": "execute_result",
          "data": {
            "text/plain": [
              "7"
            ]
          },
          "metadata": {},
          "execution_count": 5
        }
      ]
    },
    {
      "cell_type": "code",
      "source": [
        "#vector\n",
        "vector = torch.tensor([7, 7])\n",
        "print(vector)\n",
        "print(f'vector.ndim: {vector.ndim}')\n",
        "print(f'vector.shape: {vector.shape}')"
      ],
      "metadata": {
        "colab": {
          "base_uri": "https://localhost:8080/"
        },
        "id": "0i9IYIFDU-zC",
        "outputId": "b2502cdb-8074-4fb7-97e4-ef6a70db1e6a"
      },
      "execution_count": null,
      "outputs": [
        {
          "output_type": "stream",
          "name": "stdout",
          "text": [
            "tensor([7, 7])\n",
            "vector.ndim: 1\n",
            "vector.shape: torch.Size([2])\n"
          ]
        }
      ]
    },
    {
      "cell_type": "code",
      "source": [
        "#matrix\n",
        "matrix = torch.tensor([[1, 2],\n",
        "                      [3, 4]])\n",
        "print(matrix)\n",
        "print(f'index 1 {matrix[1]}')\n",
        "print(f'matrix.ndim {matrix.ndim}')\n",
        "print(f'matrix.shape {matrix.shape}')"
      ],
      "metadata": {
        "colab": {
          "base_uri": "https://localhost:8080/"
        },
        "id": "1E3MmFakVMzs",
        "outputId": "8a0aa949-3ea7-4cd2-9cb3-317c045567ca"
      },
      "execution_count": null,
      "outputs": [
        {
          "output_type": "stream",
          "name": "stdout",
          "text": [
            "tensor([[1, 2],\n",
            "        [3, 4]])\n",
            "index 1 tensor([3, 4])\n",
            "matrix.ndim 2\n",
            "matrix.shape torch.Size([2, 2])\n"
          ]
        }
      ]
    },
    {
      "cell_type": "code",
      "source": [
        "# tensor\n",
        "\n",
        "tensor = torch.tensor([[[7, 8, 9], [4, 5, 6], [1, 2, 3]],\n",
        "                        [[0, 0, 0], [1, 1, 1], [2, 2, 2]]])\n",
        "\n",
        "print(tensor)\n",
        "print(f'tensor.ndim {tensor.ndim}')\n",
        "print(f'tensor.shape {tensor.shape}')"
      ],
      "metadata": {
        "colab": {
          "base_uri": "https://localhost:8080/"
        },
        "id": "MjwuAv80Vzbv",
        "outputId": "376720b8-7085-42dd-a756-129c066a30bb"
      },
      "execution_count": null,
      "outputs": [
        {
          "output_type": "stream",
          "name": "stdout",
          "text": [
            "tensor([[[7, 8, 9],\n",
            "         [4, 5, 6],\n",
            "         [1, 2, 3]],\n",
            "\n",
            "        [[0, 0, 0],\n",
            "         [1, 1, 1],\n",
            "         [2, 2, 2]]])\n",
            "tensor.ndim 3\n",
            "tensor.shape torch.Size([2, 3, 3])\n"
          ]
        }
      ]
    },
    {
      "cell_type": "code",
      "source": [
        "tensor[1]"
      ],
      "metadata": {
        "colab": {
          "base_uri": "https://localhost:8080/"
        },
        "id": "9rXwybclV5zG",
        "outputId": "0a247c6f-2ef7-4c1d-c18e-533ba0970daa"
      },
      "execution_count": null,
      "outputs": [
        {
          "output_type": "execute_result",
          "data": {
            "text/plain": [
              "tensor([[0, 0, 0],\n",
              "        [1, 1, 1],\n",
              "        [2, 2, 2]])"
            ]
          },
          "metadata": {},
          "execution_count": 9
        }
      ]
    },
    {
      "cell_type": "markdown",
      "source": [
        "### random tensor"
      ],
      "metadata": {
        "id": "cS_AbMLAWhmF"
      }
    },
    {
      "cell_type": "code",
      "source": [
        "random_tensor = torch.rand(2, 3, 4)\n",
        "print(random_tensor)\n",
        "print(f'random_tensor.ndim {random_tensor.ndim} (mumber of dimension)')\n",
        "print(f'random_tensor.shape {random_tensor.shape}')"
      ],
      "metadata": {
        "colab": {
          "base_uri": "https://localhost:8080/"
        },
        "id": "ptG_H5DzYG_z",
        "outputId": "184eacb7-45dd-4083-ea4f-c504cd3bb9f9"
      },
      "execution_count": null,
      "outputs": [
        {
          "output_type": "stream",
          "name": "stdout",
          "text": [
            "tensor([[[8.7972e-02, 1.8602e-01, 6.2097e-01, 4.5644e-01],\n",
            "         [4.3791e-01, 5.2281e-02, 5.8145e-01, 5.4052e-01],\n",
            "         [3.3453e-01, 7.8326e-01, 7.1537e-01, 4.9041e-01]],\n",
            "\n",
            "        [[7.9114e-02, 8.8483e-01, 6.5719e-01, 6.7460e-01],\n",
            "         [7.3082e-03, 1.0322e-01, 2.0473e-01, 6.1931e-01],\n",
            "         [3.1686e-04, 5.1584e-01, 7.0332e-01, 2.7842e-01]]])\n",
            "random_tensor.ndim 3 (mumber of dimension)\n",
            "random_tensor.shape torch.Size([2, 3, 4])\n"
          ]
        }
      ]
    },
    {
      "cell_type": "code",
      "source": [
        "# creating a RGB (3 chanels) image with h & w = 244\n",
        "random_image_size_tensor = torch.rand(size= (224, 224, 3))\n",
        "# print(random_image_size_tensor) #too messy\n",
        "print(f'random_image_size_tensor.ndim {random_image_size_tensor.ndim} (mumber of dimension)')\n",
        "print(f'random_image_size_tensor.shape {random_image_size_tensor.shape}')"
      ],
      "metadata": {
        "colab": {
          "base_uri": "https://localhost:8080/"
        },
        "id": "93E37xgpYnu3",
        "outputId": "32e4f195-2409-4ba4-c116-71f38852323d"
      },
      "execution_count": null,
      "outputs": [
        {
          "output_type": "stream",
          "name": "stdout",
          "text": [
            "random_image_size_tensor.ndim 3 (mumber of dimension)\n",
            "random_image_size_tensor.shape torch.Size([224, 224, 3])\n"
          ]
        }
      ]
    },
    {
      "cell_type": "markdown",
      "source": [
        "## 0s & 1s"
      ],
      "metadata": {
        "id": "ivtdPCQPZy80"
      }
    },
    {
      "cell_type": "code",
      "source": [
        "# all zeros\n",
        "zeros = torch.zeros(3, 4)\n",
        "print(zeros)"
      ],
      "metadata": {
        "colab": {
          "base_uri": "https://localhost:8080/"
        },
        "id": "IIHUGdMGarw_",
        "outputId": "b47e8621-b346-4e06-862e-993c7fef983e"
      },
      "execution_count": null,
      "outputs": [
        {
          "output_type": "stream",
          "name": "stdout",
          "text": [
            "tensor([[0., 0., 0., 0.],\n",
            "        [0., 0., 0., 0.],\n",
            "        [0., 0., 0., 0.]])\n"
          ]
        }
      ]
    },
    {
      "cell_type": "code",
      "source": [
        "# all ones\n",
        "ones = torch.ones(3, 4)\n",
        "print(ones)"
      ],
      "metadata": {
        "colab": {
          "base_uri": "https://localhost:8080/"
        },
        "id": "6WgkXB79axwP",
        "outputId": "290bacfc-92f1-47a0-da3f-95c436a412a3"
      },
      "execution_count": null,
      "outputs": [
        {
          "output_type": "stream",
          "name": "stdout",
          "text": [
            "tensor([[1., 1., 1., 1.],\n",
            "        [1., 1., 1., 1.],\n",
            "        [1., 1., 1., 1.]])\n"
          ]
        }
      ]
    },
    {
      "cell_type": "code",
      "source": [
        "# eye (extra)\n",
        "eye = torch.eye(5, 5)\n",
        "print(eye)"
      ],
      "metadata": {
        "colab": {
          "base_uri": "https://localhost:8080/"
        },
        "id": "aTBuIFWFbAbb",
        "outputId": "6fd2a2f1-42ce-4c6a-c131-c220ac96e1ea"
      },
      "execution_count": null,
      "outputs": [
        {
          "output_type": "stream",
          "name": "stdout",
          "text": [
            "tensor([[1., 0., 0., 0., 0.],\n",
            "        [0., 1., 0., 0., 0.],\n",
            "        [0., 0., 1., 0., 0.],\n",
            "        [0., 0., 0., 1., 0.],\n",
            "        [0., 0., 0., 0., 1.]])\n"
          ]
        }
      ]
    },
    {
      "cell_type": "markdown",
      "source": [
        "## creating range of tensors and tensors-like"
      ],
      "metadata": {
        "id": "vbALfT_LbUdX"
      }
    },
    {
      "cell_type": "code",
      "source": [
        "# using torch.range()\n",
        "# range is old... go for arange\n",
        "one_to_ten = torch.arange(0, 11, step= 1)\n",
        "print(one_to_ten)"
      ],
      "metadata": {
        "colab": {
          "base_uri": "https://localhost:8080/"
        },
        "id": "RAJN5FDvbggH",
        "outputId": "2289ce6d-f3cc-47b1-94fb-5c88146e9081"
      },
      "execution_count": null,
      "outputs": [
        {
          "output_type": "stream",
          "name": "stdout",
          "text": [
            "tensor([ 0,  1,  2,  3,  4,  5,  6,  7,  8,  9, 10])\n"
          ]
        }
      ]
    },
    {
      "cell_type": "code",
      "source": [
        "# creating tensors liek\n",
        "ten_zeros = torch.zeros_like(input=one_to_ten)\n",
        "print(ten_zeros)\n",
        "print(f'ten_zeros.dtype {ten_zeros.dtype}')"
      ],
      "metadata": {
        "colab": {
          "base_uri": "https://localhost:8080/"
        },
        "id": "xFkAPBVbbjYZ",
        "outputId": "c1f74a04-4dbd-45a9-c708-8fd729f13832"
      },
      "execution_count": null,
      "outputs": [
        {
          "output_type": "stream",
          "name": "stdout",
          "text": [
            "tensor([0, 0, 0, 0, 0, 0, 0, 0, 0, 0, 0])\n",
            "ten_zeros.dtype torch.int64\n"
          ]
        }
      ]
    },
    {
      "cell_type": "code",
      "source": [
        "# alt, but notice the type....\n",
        "ten_zeros = torch.zeros(size = one_to_ten.shape)\n",
        "print(f'ten_zeros.dtype {ten_zeros.dtype}')"
      ],
      "metadata": {
        "colab": {
          "base_uri": "https://localhost:8080/"
        },
        "id": "MOSA8c08cRnB",
        "outputId": "6e3f374d-2907-45ce-b818-4b6378023346"
      },
      "execution_count": null,
      "outputs": [
        {
          "output_type": "stream",
          "name": "stdout",
          "text": [
            "ten_zeros.dtype torch.float32\n"
          ]
        }
      ]
    },
    {
      "cell_type": "code",
      "source": [
        "# float 32 tensor\n",
        "float_32_tensor = torch.tensor([1.0, 2.0, 3.0, 5.0],\n",
        "                               dtype = None,\n",
        "                               device = None,\n",
        "                               requires_grad = False)\n",
        "\n",
        "print(float_32_tensor)\n",
        "print(f'float_32_tensor.dtype: {float_32_tensor.dtype}')"
      ],
      "metadata": {
        "colab": {
          "base_uri": "https://localhost:8080/"
        },
        "id": "uyqZNIP-clc6",
        "outputId": "8d4ecd30-b06e-4aaa-ab27-c7359c00044d"
      },
      "execution_count": null,
      "outputs": [
        {
          "output_type": "stream",
          "name": "stdout",
          "text": [
            "tensor([1., 2., 3., 5.])\n",
            "float_32_tensor.dtype: torch.float32\n"
          ]
        }
      ]
    },
    {
      "cell_type": "code",
      "source": [
        "#float16 tensor\n",
        "float_16_tensor = float_32_tensor.type(torch.float16)\n",
        "print(float_16_tensor)\n",
        "print(f'float_16_tensor.dtype: {float_16_tensor.dtype}')"
      ],
      "metadata": {
        "colab": {
          "base_uri": "https://localhost:8080/"
        },
        "id": "pXx7z3zMh7WZ",
        "outputId": "02d996f2-86c2-4520-dffe-b2de316016c5"
      },
      "execution_count": null,
      "outputs": [
        {
          "output_type": "stream",
          "name": "stdout",
          "text": [
            "tensor([1., 2., 3., 5.], dtype=torch.float16)\n",
            "float_16_tensor.dtype: torch.float16\n"
          ]
        }
      ]
    },
    {
      "cell_type": "code",
      "source": [
        "mix_tensor = float_16_tensor * float_32_tensor\n",
        "print(mix_tensor)\n",
        "print(f'mix_tensor.dtype: {mix_tensor.dtype}')"
      ],
      "metadata": {
        "colab": {
          "base_uri": "https://localhost:8080/"
        },
        "id": "2smQpKT6jks1",
        "outputId": "f450edd3-c0e1-4800-dc3e-fdc9efd3da8f"
      },
      "execution_count": null,
      "outputs": [
        {
          "output_type": "stream",
          "name": "stdout",
          "text": [
            "tensor([ 1.,  4.,  9., 25.])\n",
            "mix_tensor.dtype: torch.float32\n"
          ]
        }
      ]
    },
    {
      "cell_type": "code",
      "source": [
        "int_32_tensor = torch.tensor([1, 3, 5, 7], dtype=torch.int32)\n",
        "int_float_tensor = mix_tensor * int_32_tensor\n",
        "print(int_float_tensor)\n",
        "print(f'int_float_tensor.dtype:  {int_float_tensor.dtype}')"
      ],
      "metadata": {
        "colab": {
          "base_uri": "https://localhost:8080/"
        },
        "id": "bqRUhUm2kbMZ",
        "outputId": "4878a06f-eec4-4635-9fef-9f396e6e2474"
      },
      "execution_count": null,
      "outputs": [
        {
          "output_type": "stream",
          "name": "stdout",
          "text": [
            "tensor([  1.,  12.,  45., 175.])\n",
            "int_float_tensor.dtype:  torch.float32\n"
          ]
        }
      ]
    },
    {
      "cell_type": "markdown",
      "source": [
        "## getting info from tensors\n",
        "- tensors not right datatype (to do get datatype from a tensor, use `tensor.dtype`)\n",
        "- tensors not right shape (to get shape from a tensor use `tensor.shape`)\n",
        "- tensors not on the right device (to get device from tensor use `tensor.device`)"
      ],
      "metadata": {
        "id": "-tI6wOr3lsqt"
      }
    },
    {
      "cell_type": "code",
      "source": [
        "# create a tensor (basicaly what I was doing before)\n",
        "#but doing some different things\n",
        "some_tensor = torch.rand(size=(3, 4), dtype=torch.float16, device = 'cuda')\n",
        "print(some_tensor)\n",
        "print(f'Datatype of tensor: {some_tensor.dtype}')\n",
        "print(f'shape of tensor: {some_tensor.shape}')\n",
        "print(f'device tensor is on: {some_tensor.device}')\n",
        "\n",
        "#sending tensor to cpu\n",
        "some_tensor = some_tensor.to('cpu')\n",
        "print(f'device tensor is on: {some_tensor.device}')"
      ],
      "metadata": {
        "colab": {
          "base_uri": "https://localhost:8080/"
        },
        "id": "MPgLnNYkF_e-",
        "outputId": "dbb14805-96b5-438e-efdc-6167d971b60a"
      },
      "execution_count": null,
      "outputs": [
        {
          "output_type": "stream",
          "name": "stdout",
          "text": [
            "tensor([[0.0305, 0.2386, 0.2252, 0.0679],\n",
            "        [0.2581, 0.7803, 0.2920, 0.8999],\n",
            "        [0.8926, 0.6328, 0.2188, 0.8057]], device='cuda:0',\n",
            "       dtype=torch.float16)\n",
            "Datatype of tensor: torch.float16\n",
            "shape of tensor: torch.Size([3, 4])\n",
            "device tensor is on: cuda:0\n",
            "device tensor is on: cpu\n"
          ]
        }
      ]
    },
    {
      "cell_type": "markdown",
      "source": [
        " ### manupulating tensor (tensor operations)\n",
        "\n",
        " Tensor operating include:\n",
        " * add\n",
        " * sub\n",
        " * mul (element wise)\n",
        " * div\n",
        " * dot (matrix mul)"
      ],
      "metadata": {
        "id": "ggvkTKDVGV99"
      }
    },
    {
      "cell_type": "code",
      "source": [
        "tensor = torch.tensor([1, 2, 3])\n",
        "\n",
        "# add\n",
        "print(tensor + 42)\n",
        "\n",
        "#  mul\n",
        "print(tensor * 3)\n",
        "\n",
        "# sub\n",
        "print(tensor - 4)"
      ],
      "metadata": {
        "colab": {
          "base_uri": "https://localhost:8080/"
        },
        "id": "rjGlwVvIIWfh",
        "outputId": "cf67eece-677c-4ffb-a3c6-ddc24139114a"
      },
      "execution_count": null,
      "outputs": [
        {
          "output_type": "stream",
          "name": "stdout",
          "text": [
            "tensor([43, 44, 45])\n",
            "tensor([3, 6, 9])\n",
            "tensor([-3, -2, -1])\n"
          ]
        }
      ]
    },
    {
      "cell_type": "code",
      "source": [
        "# pytorch funcs (basic)\n",
        "print(torch.mul(tensor, 3))\n",
        "print(torch.add(tensor, 4))"
      ],
      "metadata": {
        "colab": {
          "base_uri": "https://localhost:8080/"
        },
        "id": "siwBCZsrImUV",
        "outputId": "acc3bfa8-c3f8-4db3-cc7a-aa4f40753da8"
      },
      "execution_count": null,
      "outputs": [
        {
          "output_type": "stream",
          "name": "stdout",
          "text": [
            "tensor([3, 6, 9])\n",
            "tensor([5, 6, 7])\n"
          ]
        }
      ]
    },
    {
      "cell_type": "code",
      "source": [
        "# mul (element wise)\n",
        "print(torch.matmul(tensor, tensor))"
      ],
      "metadata": {
        "colab": {
          "base_uri": "https://localhost:8080/"
        },
        "id": "gRjnPEvgKdbZ",
        "outputId": "7f288dcf-48c0-4e4c-a57d-d22d9ee58644"
      },
      "execution_count": null,
      "outputs": [
        {
          "output_type": "stream",
          "name": "stdout",
          "text": [
            "tensor(14)\n"
          ]
        }
      ]
    },
    {
      "cell_type": "code",
      "source": [
        "# he does completely different on the video, but that's ok\n",
        "# dot (matrix mul)\n",
        "\n",
        "tensor_a = torch.tensor([[1, 2, 3],\n",
        "                         [4, 5, 6]])\n",
        "\n",
        "tensor_b = torch.tensor([[7, 8, 9],\n",
        "                         [10, 11, 12]])\n",
        "# result = torch.matmul(tensor_a, tensor_b.T)\n",
        "result = tensor_a @ tensor_b.T\n",
        "print(result)"
      ],
      "metadata": {
        "colab": {
          "base_uri": "https://localhost:8080/"
        },
        "id": "rtRWIWVBIweD",
        "outputId": "badf8ec9-db42-486c-c498-36ee70b7d4cf"
      },
      "execution_count": null,
      "outputs": [
        {
          "output_type": "stream",
          "name": "stdout",
          "text": [
            "tensor([[ 50,  68],\n",
            "        [122, 167]])\n"
          ]
        }
      ]
    },
    {
      "cell_type": "code",
      "source": [
        "#on the video he does something like this\n",
        "\n",
        "print(torch.matmul(torch.rand(3,2), torch.rand(2, 3)))\n",
        "\n",
        "#it's fun to see how the dimentions needs to be to work well ;)"
      ],
      "metadata": {
        "colab": {
          "base_uri": "https://localhost:8080/"
        },
        "id": "9FYDL1NlI7Jr",
        "outputId": "05b37641-39e5-45db-cc62-88adaf6086a5"
      },
      "execution_count": null,
      "outputs": [
        {
          "output_type": "stream",
          "name": "stdout",
          "text": [
            "tensor([[0.4606, 0.3820, 1.0313],\n",
            "        [0.6817, 0.4403, 1.2580],\n",
            "        [0.5799, 0.3409, 0.9981]])\n"
          ]
        }
      ]
    },
    {
      "cell_type": "markdown",
      "source": [
        "## min, max, mean, sum, etc..."
      ],
      "metadata": {
        "id": "kD5Q95QeNQfe"
      }
    },
    {
      "cell_type": "code",
      "source": [
        "x = torch.arange(0, 100, 10)\n",
        "print(x)\n",
        "print(f'min: {x.min()}')\n",
        "print(f'max: {x.max()}')\n",
        "# torch.mean requires tensor to be float32\n",
        "print(f'mean: {x.type(torch.float32).mean()}')\n",
        "print(f'sum: {x.sum()}')"
      ],
      "metadata": {
        "colab": {
          "base_uri": "https://localhost:8080/"
        },
        "id": "0WqmFtezpDPh",
        "outputId": "c3844cde-0628-4a54-9577-e876d6d2f4c2"
      },
      "execution_count": null,
      "outputs": [
        {
          "output_type": "stream",
          "name": "stdout",
          "text": [
            "tensor([ 0, 10, 20, 30, 40, 50, 60, 70, 80, 90])\n",
            "min: 0\n",
            "max: 90\n",
            "mean: 45.0\n",
            "sum: 450\n"
          ]
        }
      ]
    },
    {
      "cell_type": "code",
      "source": [
        "# argmin, argmax\n",
        "print(f'argmin: {x.argmin()}')\n",
        "print(f'argmax: {x.argmax()}')"
      ],
      "metadata": {
        "colab": {
          "base_uri": "https://localhost:8080/"
        },
        "id": "hBn0l0uypgIk",
        "outputId": "4d71d57e-2b57-4b4d-c9d5-74035b55bbbf"
      },
      "execution_count": null,
      "outputs": [
        {
          "output_type": "stream",
          "name": "stdout",
          "text": [
            "argmin: 0\n",
            "argmax: 9\n"
          ]
        }
      ]
    },
    {
      "cell_type": "code",
      "source": [
        "## reshaping, stacking, (un)squeezing\n",
        "x = torch.arange(1., 10.)\n",
        "x, x.shape"
      ],
      "metadata": {
        "colab": {
          "base_uri": "https://localhost:8080/"
        },
        "id": "JUqzug32qtTk",
        "outputId": "523a539f-1e23-4573-f28e-eea5533ebb2a"
      },
      "execution_count": null,
      "outputs": [
        {
          "output_type": "execute_result",
          "data": {
            "text/plain": [
              "(tensor([1., 2., 3., 4., 5., 6., 7., 8., 9.]), torch.Size([9]))"
            ]
          },
          "metadata": {},
          "execution_count": 30
        }
      ]
    },
    {
      "cell_type": "code",
      "source": [
        "x_reshaped = x.reshape(3,3)\n",
        "x_reshaped, x_reshaped.shape"
      ],
      "metadata": {
        "colab": {
          "base_uri": "https://localhost:8080/"
        },
        "id": "ZB6Qdf7stFVo",
        "outputId": "ed3790db-434a-4e73-9777-a643c49bb3b0"
      },
      "execution_count": null,
      "outputs": [
        {
          "output_type": "execute_result",
          "data": {
            "text/plain": [
              "(tensor([[1., 2., 3.],\n",
              "         [4., 5., 6.],\n",
              "         [7., 8., 9.]]),\n",
              " torch.Size([3, 3]))"
            ]
          },
          "metadata": {},
          "execution_count": 31
        }
      ]
    },
    {
      "cell_type": "code",
      "source": [
        "# chaging z changes x\n",
        "# a view of a tensor shares the same memory as the original one\n",
        "z = x_reshaped.view(9, 1)\n",
        "print(f'z: {z}')\n",
        "print(f'z.shape: {z.shape}')\n",
        "z[3, 0] = 999\n",
        "print(x_reshaped)\n",
        "print(z)"
      ],
      "metadata": {
        "colab": {
          "base_uri": "https://localhost:8080/"
        },
        "id": "h8lw06qDuGcv",
        "outputId": "6dd00aa0-d171-4a02-d386-b037e04be5e5"
      },
      "execution_count": null,
      "outputs": [
        {
          "output_type": "stream",
          "name": "stdout",
          "text": [
            "z: tensor([[1.],\n",
            "        [2.],\n",
            "        [3.],\n",
            "        [4.],\n",
            "        [5.],\n",
            "        [6.],\n",
            "        [7.],\n",
            "        [8.],\n",
            "        [9.]])\n",
            "z.shape: torch.Size([9, 1])\n",
            "tensor([[  1.,   2.,   3.],\n",
            "        [999.,   5.,   6.],\n",
            "        [  7.,   8.,   9.]])\n",
            "tensor([[  1.],\n",
            "        [  2.],\n",
            "        [  3.],\n",
            "        [999.],\n",
            "        [  5.],\n",
            "        [  6.],\n",
            "        [  7.],\n",
            "        [  8.],\n",
            "        [  9.]])\n"
          ]
        }
      ]
    },
    {
      "cell_type": "code",
      "source": [
        "# stacking tensors on top of each other\n",
        "x_stacked = torch.stack([x, x, x, x], dim=1)\n",
        "print(x_stacked)\n",
        "x_stacked = torch.stack([x, x, x, x], dim=0)\n",
        "print('\\n', x_stacked)"
      ],
      "metadata": {
        "colab": {
          "base_uri": "https://localhost:8080/"
        },
        "id": "LzAc8OMVur85",
        "outputId": "0f5364cc-1fa9-4ac1-995d-c14fe22d6d27"
      },
      "execution_count": null,
      "outputs": [
        {
          "output_type": "stream",
          "name": "stdout",
          "text": [
            "tensor([[  1.,   1.,   1.,   1.],\n",
            "        [  2.,   2.,   2.,   2.],\n",
            "        [  3.,   3.,   3.,   3.],\n",
            "        [999., 999., 999., 999.],\n",
            "        [  5.,   5.,   5.,   5.],\n",
            "        [  6.,   6.,   6.,   6.],\n",
            "        [  7.,   7.,   7.,   7.],\n",
            "        [  8.,   8.,   8.,   8.],\n",
            "        [  9.,   9.,   9.,   9.]])\n",
            "\n",
            " tensor([[  1.,   2.,   3., 999.,   5.,   6.,   7.,   8.,   9.],\n",
            "        [  1.,   2.,   3., 999.,   5.,   6.,   7.,   8.,   9.],\n",
            "        [  1.,   2.,   3., 999.,   5.,   6.,   7.,   8.,   9.],\n",
            "        [  1.,   2.,   3., 999.,   5.,   6.,   7.,   8.,   9.]])\n"
          ]
        }
      ]
    },
    {
      "cell_type": "code",
      "source": [
        "# (un)squeeze\n",
        "y = torch.arange(1., 10.)\n",
        "print(y, y.shape)\n",
        "print('\\n')\n",
        "y_squeezed = y.squeeze()\n",
        "print(y_squeezed, y_squeezed.size())\n",
        "# ???"
      ],
      "metadata": {
        "colab": {
          "base_uri": "https://localhost:8080/"
        },
        "id": "DHI6mPR3v8hu",
        "outputId": "06f4dfdd-9870-4292-c46d-0310e656f30f"
      },
      "execution_count": null,
      "outputs": [
        {
          "output_type": "stream",
          "name": "stdout",
          "text": [
            "tensor([1., 2., 3., 4., 5., 6., 7., 8., 9.]) torch.Size([9])\n",
            "\n",
            "\n",
            "tensor([1., 2., 3., 4., 5., 6., 7., 8., 9.]) torch.Size([9])\n"
          ]
        }
      ]
    },
    {
      "cell_type": "code",
      "source": [
        "# adding extra dim to the one that was supposed to have\n",
        "y_unsqueezed = y.unsqueeze(dim=1)\n",
        "print(y_unsqueezed, y_unsqueezed.size())\n",
        "\n",
        "y_squeezed = y_unsqueezed.squeeze()\n",
        "print('\\n', y_squeezed, y_squeezed.size())\n",
        "\n",
        "y_permuted = y_unsqueezed.permute(1, 0)\n",
        "print('\\n', y_permuted, y_permuted.size())"
      ],
      "metadata": {
        "colab": {
          "base_uri": "https://localhost:8080/"
        },
        "id": "NpgXgTaRwsB3",
        "outputId": "4c6d6585-e656-4ccc-a149-5d869d5b2b72"
      },
      "execution_count": null,
      "outputs": [
        {
          "output_type": "stream",
          "name": "stdout",
          "text": [
            "tensor([[1.],\n",
            "        [2.],\n",
            "        [3.],\n",
            "        [4.],\n",
            "        [5.],\n",
            "        [6.],\n",
            "        [7.],\n",
            "        [8.],\n",
            "        [9.]]) torch.Size([9, 1])\n",
            "\n",
            " tensor([1., 2., 3., 4., 5., 6., 7., 8., 9.]) torch.Size([9])\n",
            "\n",
            " tensor([[1., 2., 3., 4., 5., 6., 7., 8., 9.]]) torch.Size([1, 9])\n"
          ]
        }
      ]
    },
    {
      "cell_type": "code",
      "source": [
        "# permute RGB image example\n",
        "rgb = torch.rand(size=(224, 224, 3))\n",
        "print(rgb.shape)\n",
        "rgb[128, 223, 1] = 666\n",
        "rgb_permuted = rgb.permute(1, 2, 0)\n",
        "print(rgb_permuted.shape)\n",
        "print(f'added value to new shape: ', rgb_permuted[223, 1, 128])\n",
        "\n",
        "rgb_permuted[45, 0, 37] = 777\n",
        "print(f'the value on the original tensor but changed on the new on: {rgb[37, 45, 0]}')\n",
        "# this is to proof that permute is a view, i.e the new tensor shares the memory of the original one"
      ],
      "metadata": {
        "colab": {
          "base_uri": "https://localhost:8080/"
        },
        "id": "fMoBm9hzyR4M",
        "outputId": "ccbec574-35ec-4e2a-e973-758b0adb1410"
      },
      "execution_count": null,
      "outputs": [
        {
          "output_type": "stream",
          "name": "stdout",
          "text": [
            "torch.Size([224, 224, 3])\n",
            "torch.Size([224, 3, 224])\n",
            "added value to new shape:  tensor(666.)\n",
            "the value on the original tensor but changed on the new on: 777.0\n"
          ]
        }
      ]
    },
    {
      "cell_type": "markdown",
      "source": [
        "## indexing"
      ],
      "metadata": {
        "id": "NfMWl13e0Cw4"
      }
    },
    {
      "cell_type": "code",
      "source": [
        "x = torch.arange(1, 10).reshape(1, 3, 3)\n",
        "print(x)"
      ],
      "metadata": {
        "colab": {
          "base_uri": "https://localhost:8080/"
        },
        "id": "JndUQO7SZ_1M",
        "outputId": "552f7816-d178-4183-be4c-0a0527a9b013"
      },
      "execution_count": null,
      "outputs": [
        {
          "output_type": "stream",
          "name": "stdout",
          "text": [
            "tensor([[[1, 2, 3],\n",
            "         [4, 5, 6],\n",
            "         [7, 8, 9]]])\n"
          ]
        }
      ]
    },
    {
      "cell_type": "code",
      "source": [
        "x[0]"
      ],
      "metadata": {
        "colab": {
          "base_uri": "https://localhost:8080/"
        },
        "id": "YlUtQqXtaa49",
        "outputId": "6a284170-cf70-4274-ecd0-c364837f8a14"
      },
      "execution_count": null,
      "outputs": [
        {
          "output_type": "execute_result",
          "data": {
            "text/plain": [
              "tensor([[1, 2, 3],\n",
              "        [4, 5, 6],\n",
              "        [7, 8, 9]])"
            ]
          },
          "metadata": {},
          "execution_count": 42
        }
      ]
    },
    {
      "cell_type": "code",
      "source": [
        "x[0, 0]"
      ],
      "metadata": {
        "colab": {
          "base_uri": "https://localhost:8080/"
        },
        "id": "B-fIfZzwab1o",
        "outputId": "b7881062-6301-489b-c75f-32e7a3330620"
      },
      "execution_count": null,
      "outputs": [
        {
          "output_type": "execute_result",
          "data": {
            "text/plain": [
              "tensor([1, 2, 3])"
            ]
          },
          "metadata": {},
          "execution_count": 45
        }
      ]
    },
    {
      "cell_type": "code",
      "source": [
        "x[0, 2, 2]"
      ],
      "metadata": {
        "colab": {
          "base_uri": "https://localhost:8080/"
        },
        "id": "UBOliV9qajyJ",
        "outputId": "7ea6e180-cc86-4eee-addb-5f1e935b4ce4"
      },
      "execution_count": null,
      "outputs": [
        {
          "output_type": "execute_result",
          "data": {
            "text/plain": [
              "tensor(9)"
            ]
          },
          "metadata": {},
          "execution_count": 49
        }
      ]
    },
    {
      "cell_type": "code",
      "source": [
        "x[:, 0]"
      ],
      "metadata": {
        "colab": {
          "base_uri": "https://localhost:8080/"
        },
        "id": "Yh4rDUcLar3X",
        "outputId": "574c669c-65e2-4204-fdaa-4e9f5f3abe96"
      },
      "execution_count": null,
      "outputs": [
        {
          "output_type": "execute_result",
          "data": {
            "text/plain": [
              "tensor([[1, 2, 3]])"
            ]
          },
          "metadata": {},
          "execution_count": 50
        }
      ]
    },
    {
      "cell_type": "code",
      "source": [
        "x[:, :, 1]"
      ],
      "metadata": {
        "colab": {
          "base_uri": "https://localhost:8080/"
        },
        "id": "K3dCwYOXbM32",
        "outputId": "b033acb8-1a8e-4ada-cf0d-b913cb1577f7"
      },
      "execution_count": null,
      "outputs": [
        {
          "output_type": "execute_result",
          "data": {
            "text/plain": [
              "tensor([[2, 5, 8]])"
            ]
          },
          "metadata": {},
          "execution_count": 52
        }
      ]
    },
    {
      "cell_type": "code",
      "source": [
        "x[:, 1, 1]"
      ],
      "metadata": {
        "colab": {
          "base_uri": "https://localhost:8080/"
        },
        "id": "2ojbTMH7bSCd",
        "outputId": "ac1b9340-cb5a-4eeb-d368-f17fa947e936"
      },
      "execution_count": null,
      "outputs": [
        {
          "output_type": "execute_result",
          "data": {
            "text/plain": [
              "tensor([5])"
            ]
          },
          "metadata": {},
          "execution_count": 53
        }
      ]
    },
    {
      "cell_type": "code",
      "source": [
        "x[0, 0, :]"
      ],
      "metadata": {
        "colab": {
          "base_uri": "https://localhost:8080/"
        },
        "id": "dyJGu2_LbsdT",
        "outputId": "a607bcfc-8371-472b-9182-3666cc354c3f"
      },
      "execution_count": null,
      "outputs": [
        {
          "output_type": "execute_result",
          "data": {
            "text/plain": [
              "tensor([1, 2, 3])"
            ]
          },
          "metadata": {},
          "execution_count": 54
        }
      ]
    },
    {
      "cell_type": "code",
      "source": [
        "x[:, :, 2]"
      ],
      "metadata": {
        "colab": {
          "base_uri": "https://localhost:8080/"
        },
        "id": "fJ-z8rWJb5JU",
        "outputId": "4b5ab7c1-6c23-45d6-f19b-d36f54e7c8ed"
      },
      "execution_count": null,
      "outputs": [
        {
          "output_type": "execute_result",
          "data": {
            "text/plain": [
              "tensor([[3, 6, 9]])"
            ]
          },
          "metadata": {},
          "execution_count": 56
        }
      ]
    },
    {
      "cell_type": "markdown",
      "source": [
        "## pytorch tensor and numpy"
      ],
      "metadata": {
        "id": "VHb2lWy-cMrF"
      }
    },
    {
      "cell_type": "code",
      "source": [
        "# numpy array to tensor\n",
        "array = np.arange(1., 8.)\n",
        "tensor = torch.from_numpy(array)\n",
        "print(f'numpy array: {array}')\n",
        "print(f'torch tensor: {tensor}')"
      ],
      "metadata": {
        "colab": {
          "base_uri": "https://localhost:8080/"
        },
        "id": "IuYLbZXOcnhy",
        "outputId": "c174eca2-53c0-4a56-e648-e458f152ef04"
      },
      "execution_count": null,
      "outputs": [
        {
          "output_type": "stream",
          "name": "stdout",
          "text": [
            "numpy array: [1. 2. 3. 4. 5. 6. 7.]\n",
            "torch tensor: tensor([1., 2., 3., 4., 5., 6., 7.], dtype=torch.float64)\n"
          ]
        }
      ]
    },
    {
      "cell_type": "code",
      "source": [
        "# change the value of the array\n",
        "array = array + 2\n",
        "print(f'numpy array: {array}')\n",
        "print(f'torch tensor: {tensor}')"
      ],
      "metadata": {
        "colab": {
          "base_uri": "https://localhost:8080/"
        },
        "id": "rLS6jwIXdIxe",
        "outputId": "704711b6-efe7-4acb-de4f-40fcf6742550"
      },
      "execution_count": null,
      "outputs": [
        {
          "output_type": "stream",
          "name": "stdout",
          "text": [
            "numpy array: [3. 4. 5. 6. 7. 8. 9.]\n",
            "torch tensor: tensor([1., 2., 3., 4., 5., 6., 7.], dtype=torch.float64)\n"
          ]
        }
      ]
    },
    {
      "cell_type": "code",
      "source": [
        "# tensor to numpy\n",
        "tensor = torch.ones(7)\n",
        "numpy_tensor = tensor.numpy()\n",
        "tensor, numpy_tensor"
      ],
      "metadata": {
        "colab": {
          "base_uri": "https://localhost:8080/"
        },
        "id": "HK32jYahd1JQ",
        "outputId": "eca2b9c4-38d7-496f-845b-c8143600b48c"
      },
      "execution_count": null,
      "outputs": [
        {
          "output_type": "execute_result",
          "data": {
            "text/plain": [
              "(tensor([1., 1., 1., 1., 1., 1., 1.]),\n",
              " array([1., 1., 1., 1., 1., 1., 1.], dtype=float32))"
            ]
          },
          "metadata": {},
          "execution_count": 74
        }
      ]
    },
    {
      "cell_type": "code",
      "source": [
        "tensor = tensor + 1\n",
        "tensor, numpy_tensor"
      ],
      "metadata": {
        "colab": {
          "base_uri": "https://localhost:8080/"
        },
        "id": "O8ARs8_4d_Fq",
        "outputId": "5c0b18c8-3656-49be-803a-5d3c1c55b51e"
      },
      "execution_count": null,
      "outputs": [
        {
          "output_type": "execute_result",
          "data": {
            "text/plain": [
              "(tensor([2., 2., 2., 2., 2., 2., 2.]),\n",
              " array([1., 1., 1., 1., 1., 1., 1.], dtype=float32))"
            ]
          },
          "metadata": {},
          "execution_count": 75
        }
      ]
    },
    {
      "cell_type": "markdown",
      "source": [
        "## reptoducbility"
      ],
      "metadata": {
        "id": "BFrJ3GY0fAaZ"
      }
    },
    {
      "cell_type": "code",
      "source": [
        "# seeding random so it's controlled ;)\n",
        "\n",
        "RANDOM_SEED = 1337\n",
        "\n",
        "torch.manual_seed(RANDOM_SEED)\n",
        "random_tensor_a = torch.rand(3,4)\n",
        "\n",
        "torch.manual_seed(RANDOM_SEED)\n",
        "random_tensor_b = torch.rand(3,4)\n",
        "\n",
        "print(random_tensor_a, '\\n')\n",
        "print(random_tensor_b, '\\n')\n",
        "print(random_tensor_a == random_tensor_b)"
      ],
      "metadata": {
        "colab": {
          "base_uri": "https://localhost:8080/"
        },
        "id": "LPza-ZfKfV4T",
        "outputId": "5d4d67ed-fa7b-45cf-97f9-e169cf33c4cb"
      },
      "execution_count": null,
      "outputs": [
        {
          "output_type": "stream",
          "name": "stdout",
          "text": [
            "tensor([[0.0783, 0.4956, 0.6231, 0.4224],\n",
            "        [0.2004, 0.0287, 0.5851, 0.6967],\n",
            "        [0.1761, 0.2595, 0.7086, 0.5809]]) \n",
            "\n",
            "tensor([[0.0783, 0.4956, 0.6231, 0.4224],\n",
            "        [0.2004, 0.0287, 0.5851, 0.6967],\n",
            "        [0.1761, 0.2595, 0.7086, 0.5809]]) \n",
            "\n",
            "tensor([[True, True, True, True],\n",
            "        [True, True, True, True],\n",
            "        [True, True, True, True]])\n"
          ]
        }
      ]
    },
    {
      "cell_type": "markdown",
      "source": [
        "## GPU!!!"
      ],
      "metadata": {
        "id": "AKbl4IC1hA8D"
      }
    },
    {
      "cell_type": "code",
      "source": [
        "torch.cuda.is_available()"
      ],
      "metadata": {
        "colab": {
          "base_uri": "https://localhost:8080/"
        },
        "id": "SbqUWpluirM0",
        "outputId": "ed6848cd-b8eb-4532-9549-ac9aeec908f3"
      },
      "execution_count": null,
      "outputs": [
        {
          "output_type": "execute_result",
          "data": {
            "text/plain": [
              "True"
            ]
          },
          "metadata": {},
          "execution_count": 104
        }
      ]
    },
    {
      "cell_type": "code",
      "source": [
        "torch.device('cuda')"
      ],
      "metadata": {
        "colab": {
          "base_uri": "https://localhost:8080/"
        },
        "id": "ALM1OrZflGhQ",
        "outputId": "2600871c-363f-4920-83f0-7dbe675f1a41"
      },
      "execution_count": null,
      "outputs": [
        {
          "output_type": "execute_result",
          "data": {
            "text/plain": [
              "device(type='cuda')"
            ]
          },
          "metadata": {},
          "execution_count": 105
        }
      ]
    },
    {
      "cell_type": "code",
      "source": [
        "# setup device agnostic code\n",
        "\n",
        "device = 'cuda' if torch.cuda.is_available else 'cpu'"
      ],
      "metadata": {
        "id": "HYv-ZHYllKwx"
      },
      "execution_count": null,
      "outputs": []
    },
    {
      "cell_type": "code",
      "source": [
        "device"
      ],
      "metadata": {
        "colab": {
          "base_uri": "https://localhost:8080/",
          "height": 36
        },
        "id": "oMirrLoylbyH",
        "outputId": "6065db90-c70d-48fd-88d7-597073bb01cf"
      },
      "execution_count": null,
      "outputs": [
        {
          "output_type": "execute_result",
          "data": {
            "text/plain": [
              "'cuda'"
            ],
            "application/vnd.google.colaboratory.intrinsic+json": {
              "type": "string"
            }
          },
          "metadata": {},
          "execution_count": 112
        }
      ]
    },
    {
      "cell_type": "code",
      "source": [
        "torch.cuda.device_count()"
      ],
      "metadata": {
        "colab": {
          "base_uri": "https://localhost:8080/"
        },
        "id": "NuSTVp8FldBB",
        "outputId": "587af8c0-8314-4131-e48c-d0f58edb1559"
      },
      "execution_count": null,
      "outputs": [
        {
          "output_type": "execute_result",
          "data": {
            "text/plain": [
              "1"
            ]
          },
          "metadata": {},
          "execution_count": 113
        }
      ]
    },
    {
      "cell_type": "code",
      "source": [
        "# putting tensor & model to the GPU\n",
        "\n",
        "# default is on cpu\n",
        "\n",
        "tensor = torch.arange(1, 10)\n",
        "print(tensor.device)"
      ],
      "metadata": {
        "colab": {
          "base_uri": "https://localhost:8080/"
        },
        "id": "JwHrFi8zlgpR",
        "outputId": "a1160922-6ff6-443a-ca23-3ecd9061ae82"
      },
      "execution_count": null,
      "outputs": [
        {
          "output_type": "stream",
          "name": "stdout",
          "text": [
            "cpu\n"
          ]
        }
      ]
    },
    {
      "cell_type": "code",
      "source": [
        "tensor = tensor.to(device)\n",
        "print(tensor.device)"
      ],
      "metadata": {
        "colab": {
          "base_uri": "https://localhost:8080/"
        },
        "id": "Rn-rNaGLmcwK",
        "outputId": "9866b77b-bc41-4d01-e3be-dbe1cc31e3c4"
      },
      "execution_count": null,
      "outputs": [
        {
          "output_type": "stream",
          "name": "stdout",
          "text": [
            "cuda:0\n"
          ]
        }
      ]
    },
    {
      "cell_type": "code",
      "source": [
        "# back to cpu\n",
        "tensor = tensor.to('cpu')\n",
        "print(tensor.device)\n",
        "numpy_array = tensor.numpy()\n",
        "print(numpy_array)"
      ],
      "metadata": {
        "colab": {
          "base_uri": "https://localhost:8080/"
        },
        "id": "DBTpHvvImjEX",
        "outputId": "7a80250f-d2b4-4159-9746-d339d9e99a63"
      },
      "execution_count": null,
      "outputs": [
        {
          "output_type": "stream",
          "name": "stdout",
          "text": [
            "cpu\n",
            "[1 2 3 4 5 6 7 8 9]\n"
          ]
        }
      ]
    },
    {
      "cell_type": "code",
      "source": [],
      "metadata": {
        "id": "91jncTVGnBW0"
      },
      "execution_count": null,
      "outputs": []
    }
  ]
}