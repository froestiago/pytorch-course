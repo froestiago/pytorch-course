{
  "nbformat": 4,
  "nbformat_minor": 0,
  "metadata": {
    "colab": {
      "provenance": [],
      "authorship_tag": "ABX9TyMmp06cSQK8xmfiU6EuOSC+",
      "include_colab_link": true
    },
    "kernelspec": {
      "name": "python3",
      "display_name": "Python 3"
    },
    "language_info": {
      "name": "python"
    }
  },
  "cells": [
    {
      "cell_type": "markdown",
      "metadata": {
        "id": "view-in-github",
        "colab_type": "text"
      },
      "source": [
        "<a href=\"https://colab.research.google.com/github/froestiago/pytorch-course/blob/main/01_pytorch_workflow_video.ipynb\" target=\"_parent\"><img src=\"https://colab.research.google.com/assets/colab-badge.svg\" alt=\"Open In Colab\"/></a>"
      ]
    },
    {
      "cell_type": "markdown",
      "source": [
        "# pytorch workflow\n",
        "\n",
        "resources:\n",
        "  book - https://www.learnpytorch.io/01_pytorch_workflow/"
      ],
      "metadata": {
        "id": "8i5AWsR1ndxJ"
      }
    },
    {
      "cell_type": "code",
      "source": [
        "what_were_covering = {1: \"data (prepare & load)\",\n",
        "                      2: \"build model\",\n",
        "                      3: \"fitting the model to data (training)\",\n",
        "                      4: \"making prediction and evaluating a model (inference)\",\n",
        "                      5: \"saving and loading a model\",\n",
        "                      6: \"putting it all together\"}\n"
      ],
      "metadata": {
        "id": "Y3n3LjEdo7Bj"
      },
      "execution_count": 209,
      "outputs": []
    },
    {
      "cell_type": "code",
      "source": [
        "import torch\n",
        "from torch import nn\n",
        "import matplotlib.pyplot as plt"
      ],
      "metadata": {
        "id": "7yD64GfLqebX"
      },
      "execution_count": 210,
      "outputs": []
    },
    {
      "cell_type": "markdown",
      "source": [
        "## 1. Data (preparing & loading)\n",
        "\n",
        "data can be almost anything... in machine learning\n",
        "* spreadsheet\n",
        "* images\n",
        "* videos\n",
        "* audio (songs and podcasts)\n",
        "* DNA (!!!)\n",
        "* text\n",
        "\n",
        "machine larning is a game of two parts:\n",
        "1. get data into a numerical representation\n",
        "2. build a model to learn patterns in that numerical representation\n",
        "\n",
        "to showcase this, let's create some *known* data using linear regression formula\n",
        "\n",
        "we'll use a linear regression formula to make a straight line with *know* **parameters**\n",
        "\n"
      ],
      "metadata": {
        "id": "u-14V5xhrIir"
      }
    },
    {
      "cell_type": "code",
      "source": [
        "# create known parameters\n",
        "\n",
        "weight = 0.7\n",
        "bias = 0.3\n",
        "\n",
        "# create data\n",
        "start = 0\n",
        "end = 1\n",
        "step = 0.02\n",
        "\n",
        "X = torch.arange(start, end, step).unsqueeze(dim=1)\n",
        "y = weight * X + bias"
      ],
      "metadata": {
        "id": "X2tYCiWTsiY7"
      },
      "execution_count": 211,
      "outputs": []
    },
    {
      "cell_type": "code",
      "source": [
        "print(f'X[:10]: {X[:10]}')\n",
        "print(f'len(X): {len(X)} \\n')\n",
        "print(f'y[:10]: {y[:10]}')\n",
        "print(f'len(y): {len(y)}')"
      ],
      "metadata": {
        "colab": {
          "base_uri": "https://localhost:8080/"
        },
        "id": "b367VUQ3s_nq",
        "outputId": "d26df54f-87de-4f5d-b70c-ac76d60e3f35"
      },
      "execution_count": 212,
      "outputs": [
        {
          "output_type": "stream",
          "name": "stdout",
          "text": [
            "X[:10]: tensor([[0.0000],\n",
            "        [0.0200],\n",
            "        [0.0400],\n",
            "        [0.0600],\n",
            "        [0.0800],\n",
            "        [0.1000],\n",
            "        [0.1200],\n",
            "        [0.1400],\n",
            "        [0.1600],\n",
            "        [0.1800]])\n",
            "len(X): 50 \n",
            "\n",
            "y[:10]: tensor([[0.3000],\n",
            "        [0.3140],\n",
            "        [0.3280],\n",
            "        [0.3420],\n",
            "        [0.3560],\n",
            "        [0.3700],\n",
            "        [0.3840],\n",
            "        [0.3980],\n",
            "        [0.4120],\n",
            "        [0.4260]])\n",
            "len(y): 50\n"
          ]
        }
      ]
    },
    {
      "cell_type": "markdown",
      "source": [
        "### splitting data into training and test sets"
      ],
      "metadata": {
        "id": "nLO6N_ORtSg2"
      }
    },
    {
      "cell_type": "code",
      "source": [
        "# creating train & test split\n",
        "train_split = int(0.8 * len(X))\n",
        "X_train, y_train = X[:train_split], y[:train_split]\n",
        "X_test, y_test = X[train_split:], y[train_split:]\n",
        "\n",
        "print(f'X_train size: {len(X_train)}')\n",
        "print(f'y_train size: {len(y_train)}')\n",
        "print(f'X_test size: {len(X_test)}')\n",
        "print(f'y_test size: {len(y_test)}')"
      ],
      "metadata": {
        "colab": {
          "base_uri": "https://localhost:8080/"
        },
        "id": "uProNL8GuEk2",
        "outputId": "39687189-9699-452d-c71f-617443f00868"
      },
      "execution_count": 213,
      "outputs": [
        {
          "output_type": "stream",
          "name": "stdout",
          "text": [
            "X_train size: 40\n",
            "y_train size: 40\n",
            "X_test size: 10\n",
            "y_test size: 10\n"
          ]
        }
      ]
    },
    {
      "cell_type": "markdown",
      "source": [
        "Visualizing data!"
      ],
      "metadata": {
        "id": "hFIyJnfNvvTa"
      }
    },
    {
      "cell_type": "code",
      "source": [
        "def plot_predictions(train_data = X_train,\n",
        "                     train_labels = y_train,\n",
        "                     test_data = X_test,\n",
        "                     test_labels = y_test,\n",
        "                     predictions = None):\n",
        "\n",
        "  \"\"\"\n",
        "  plots training, test data and predictions\n",
        "  \"\"\"\n",
        "\n",
        "  # plot training data in blue\n",
        "  plt.scatter(train_data, train_labels, c = \"b\", s = 4, label = \"training data\")\n",
        "\n",
        "  #plot test data in green\n",
        "  plt.scatter(test_data, test_labels, c = 'g', s = 4, label = 'testing data')\n",
        "\n",
        "  # are there predictions?\n",
        "  if predictions is not None:\n",
        "    #plot prediction if they exist\n",
        "    plt.scatter(test_data, predictions, c = 'r', s = 4, label = 'predictions')\n",
        "\n",
        "  plt.legend(prop = {'size': 14})\n"
      ],
      "metadata": {
        "id": "3-88RPiExhXK"
      },
      "execution_count": 214,
      "outputs": []
    },
    {
      "cell_type": "code",
      "source": [
        "plot_predictions();"
      ],
      "metadata": {
        "colab": {
          "base_uri": "https://localhost:8080/",
          "height": 430
        },
        "id": "zOoywrA1zCDl",
        "outputId": "0782af0b-e587-4376-dcf5-06d8813080a5"
      },
      "execution_count": 215,
      "outputs": [
        {
          "output_type": "display_data",
          "data": {
            "text/plain": [
              "<Figure size 640x480 with 1 Axes>"
            ],
            "image/png": "[encoded data removed]"
          },
          "metadata": {}
        }
      ]
    },
    {
      "cell_type": "markdown",
      "source": [
        "## 2. building model"
      ],
      "metadata": {
        "id": "0KaApkB0zIRh"
      }
    },
    {
      "cell_type": "code",
      "source": [
        "# creating linear regression model class\n",
        "\n",
        "class LinearRegressionModel(nn.Module):\n",
        "  def __init__(self):\n",
        "    super().__init__()\n",
        "    self.weights = nn.Parameter(torch.randn(1,\n",
        "                                            requires_grad = True,\n",
        "                                            dtype = torch.float32))\n",
        "    self.bias = nn.Parameter(torch.randn(1,\n",
        "                                         requires_grad = True,\n",
        "                                         dtype = torch.float32))\n",
        "\n",
        "  #forward method to define the computation in the model\n",
        "  def forward(self, x: torch.Tensor) -> torch.Tensor:\n",
        "    return self.weights * x + self.bias # linear regression formula\n",
        "\n"
      ],
      "metadata": {
        "id": "dM1fv8Ts0ILp"
      },
      "execution_count": 216,
      "outputs": []
    },
    {
      "cell_type": "markdown",
      "source": [
        "### pytorch model building essentials\n",
        "\n",
        "* torch.nn\n",
        "* torchn.nn.Parameters\n",
        "..."
      ],
      "metadata": {
        "id": "M-YNDI_H2pRU"
      }
    },
    {
      "cell_type": "code",
      "source": [
        "#cheking out our model\n",
        "\n",
        "# random seed\n",
        "torch.manual_seed(42)\n",
        "\n",
        "# creating a instance of our model\n",
        "\n",
        "model_0 = LinearRegressionModel()\n",
        "\n",
        "# check out the parameters\n",
        "list(model_0.parameters())"
      ],
      "metadata": {
        "colab": {
          "base_uri": "https://localhost:8080/"
        },
        "id": "UlvTcr827BJj",
        "outputId": "a566a17a-9b02-48c5-d41e-765a1f1629c3"
      },
      "execution_count": 217,
      "outputs": [
        {
          "output_type": "execute_result",
          "data": {
            "text/plain": [
              "[Parameter containing:\n",
              " tensor([0.3367], requires_grad=True),\n",
              " Parameter containing:\n",
              " tensor([0.1288], requires_grad=True)]"
            ]
          },
          "metadata": {},
          "execution_count": 217
        }
      ]
    },
    {
      "cell_type": "code",
      "source": [
        "# List named parameters\n",
        "print(model_0.state_dict())"
      ],
      "metadata": {
        "colab": {
          "base_uri": "https://localhost:8080/"
        },
        "id": "YGRqM8mM8A8x",
        "outputId": "f142baa2-1498-4089-b21e-2c27743517f5"
      },
      "execution_count": 218,
      "outputs": [
        {
          "output_type": "stream",
          "name": "stdout",
          "text": [
            "OrderedDict([('weights', tensor([0.3367])), ('bias', tensor([0.1288]))])\n"
          ]
        }
      ]
    },
    {
      "cell_type": "markdown",
      "source": [
        "### making predictions using `torch.inference_mode()`"
      ],
      "metadata": {
        "id": "k7UtwkIC82rq"
      }
    },
    {
      "cell_type": "code",
      "source": [
        "print(X_test)\n",
        "print(y_test)"
      ],
      "metadata": {
        "colab": {
          "base_uri": "https://localhost:8080/"
        },
        "id": "8BircTvD981W",
        "outputId": "46ceefdd-631f-4cc2-b9dd-a94ec5cc3b16"
      },
      "execution_count": 219,
      "outputs": [
        {
          "output_type": "stream",
          "name": "stdout",
          "text": [
            "tensor([[0.8000],\n",
            "        [0.8200],\n",
            "        [0.8400],\n",
            "        [0.8600],\n",
            "        [0.8800],\n",
            "        [0.9000],\n",
            "        [0.9200],\n",
            "        [0.9400],\n",
            "        [0.9600],\n",
            "        [0.9800]])\n",
            "tensor([[0.8600],\n",
            "        [0.8740],\n",
            "        [0.8880],\n",
            "        [0.9020],\n",
            "        [0.9160],\n",
            "        [0.9300],\n",
            "        [0.9440],\n",
            "        [0.9580],\n",
            "        [0.9720],\n",
            "        [0.9860]])\n"
          ]
        }
      ]
    },
    {
      "cell_type": "code",
      "source": [
        "with torch.inference_mode():\n",
        "  y_preds = model_0(X_test)\n",
        "\n",
        "print(y_preds)"
      ],
      "metadata": {
        "colab": {
          "base_uri": "https://localhost:8080/"
        },
        "id": "wxu_5Q1u9ixm",
        "outputId": "679abd42-8e3e-4b0f-f1d2-2c9ce6c4ffdf"
      },
      "execution_count": 220,
      "outputs": [
        {
          "output_type": "stream",
          "name": "stdout",
          "text": [
            "tensor([[0.3982],\n",
            "        [0.4049],\n",
            "        [0.4116],\n",
            "        [0.4184],\n",
            "        [0.4251],\n",
            "        [0.4318],\n",
            "        [0.4386],\n",
            "        [0.4453],\n",
            "        [0.4520],\n",
            "        [0.4588]])\n"
          ]
        }
      ]
    },
    {
      "cell_type": "code",
      "source": [
        "plot_predictions(predictions = y_preds)"
      ],
      "metadata": {
        "colab": {
          "base_uri": "https://localhost:8080/",
          "height": 430
        },
        "id": "J491CFao-ArU",
        "outputId": "d764c2ee-c70c-4e11-eb95-e0e1eae29e80"
      },
      "execution_count": 221,
      "outputs": [
        {
          "output_type": "display_data",
          "data": {
            "text/plain": [
              "<Figure size 640x480 with 1 Axes>"
            ],
            "image/png": "[encoded data removed]"
          },
          "metadata": {}
        }
      ]
    },
    {
      "cell_type": "markdown",
      "source": [
        "## 3. training!\n",
        "\n",
        "fit the random parameters of the model to the real parameters of the function\n",
        "\n",
        "and some stuff about loss functions and optimizers"
      ],
      "metadata": {
        "id": "IRk8EGnJ-3TT"
      }
    },
    {
      "cell_type": "code",
      "source": [
        "# setting up a loss function\n",
        "loss_fn = nn.L1Loss()\n",
        "\n",
        "\n",
        "# setting up an optimizer (stochastic gradient descent)\n",
        "optimizer = torch.optim.SGD(params = model_0.parameters(),\n",
        "                            lr = 0.01)\n"
      ],
      "metadata": {
        "id": "24DWguOpYrJW"
      },
      "execution_count": 222,
      "outputs": []
    },
    {
      "cell_type": "markdown",
      "source": [
        "### Build a training and testing loop\n",
        "\n",
        "0. loop trhough the data\n",
        "1. forward pass | make predictions\n",
        "2. getting loss | compare predictions to GT (ground truth)\n",
        "3. optimizer zero grad\n",
        "4. loss backward (backpropagation_\n",
        "5. optimizer step (gradient descent)"
      ],
      "metadata": {
        "id": "RXli63MKbVlf"
      }
    },
    {
      "cell_type": "code",
      "source": [
        "torch.manual_seed(42)\n",
        "\n",
        "epochs = 200\n",
        "\n",
        "epoch_count = []\n",
        "loss_values = []\n",
        "test_loss_values = []\n",
        "\n",
        "for epoch in range(epochs):\n",
        "  # Set the model to training mode\n",
        "  model_0.train() # Train mode sets all parameters to require gradients\n",
        "\n",
        "  # 1. Forward pass\n",
        "  y_pred = model_0(X_train)\n",
        "\n",
        "  # 2. Loss\n",
        "  loss = loss_fn(y_pred, y_train)\n",
        "\n",
        "  # 3. Optimizer zero grad\n",
        "  optimizer.zero_grad()\n",
        "\n",
        "  # 4. Perform backpropagation with the loss values\n",
        "  loss.backward()\n",
        "\n",
        "  # 5. Step the optimizer\n",
        "  optimizer.step()\n",
        "\n",
        "  # Testing\n",
        "  model_0.eval() # Turn gradients off\n",
        "  with torch.inference_mode():\n",
        "    # 1. Forward pass\n",
        "    test_pred = model_0(X_test)\n",
        "\n",
        "    # 2. Calculate the loss\n",
        "    test_loss = loss_fn(test_pred, y_test)\n",
        "\n",
        "  if epoch % 10 == 0:\n",
        "    epoch_count.append(epoch)\n",
        "    loss_values.append(loss)\n",
        "    test_loss_values.append(test_loss)\n",
        "    print(f'epoch: {epoch} | Loss: {loss} | Test loss: {test_loss}')\n",
        "    print(f'model parameters: {model_0.state_dict()}')\n",
        "    print(f'true function parameters: {weight, bias}\\n')"
      ],
      "metadata": {
        "colab": {
          "base_uri": "https://localhost:8080/"
        },
        "id": "yAaI7u_weA_s",
        "outputId": "dc2f9972-ac6d-448a-b5ac-6f6533a720c1"
      },
      "execution_count": 223,
      "outputs": [
        {
          "output_type": "stream",
          "name": "stdout",
          "text": [
            "epoch: 0 | Loss: 0.31288138031959534 | Test loss: 0.48106518387794495\n",
            "model parameters: OrderedDict([('weights', tensor([0.3406])), ('bias', tensor([0.1388]))])\n",
            "true function parameters: (0.7, 0.3)\n",
            "\n",
            "epoch: 10 | Loss: 0.1976713240146637 | Test loss: 0.3463551998138428\n",
            "model parameters: OrderedDict([('weights', tensor([0.3796])), ('bias', tensor([0.2388]))])\n",
            "true function parameters: (0.7, 0.3)\n",
            "\n",
            "epoch: 20 | Loss: 0.08908725529909134 | Test loss: 0.21729660034179688\n",
            "model parameters: OrderedDict([('weights', tensor([0.4184])), ('bias', tensor([0.3333]))])\n",
            "true function parameters: (0.7, 0.3)\n",
            "\n",
            "epoch: 30 | Loss: 0.053148526698350906 | Test loss: 0.14464017748832703\n",
            "model parameters: OrderedDict([('weights', tensor([0.4512])), ('bias', tensor([0.3768]))])\n",
            "true function parameters: (0.7, 0.3)\n",
            "\n",
            "epoch: 40 | Loss: 0.04543796554207802 | Test loss: 0.11360953003168106\n",
            "model parameters: OrderedDict([('weights', tensor([0.4748])), ('bias', tensor([0.3868]))])\n",
            "true function parameters: (0.7, 0.3)\n",
            "\n",
            "epoch: 50 | Loss: 0.04167863354086876 | Test loss: 0.09919948130846024\n",
            "model parameters: OrderedDict([('weights', tensor([0.4938])), ('bias', tensor([0.3843]))])\n",
            "true function parameters: (0.7, 0.3)\n",
            "\n",
            "epoch: 60 | Loss: 0.03818932920694351 | Test loss: 0.08886633068323135\n",
            "model parameters: OrderedDict([('weights', tensor([0.5116])), ('bias', tensor([0.3788]))])\n",
            "true function parameters: (0.7, 0.3)\n",
            "\n",
            "epoch: 70 | Loss: 0.03476089984178543 | Test loss: 0.0805937647819519\n",
            "model parameters: OrderedDict([('weights', tensor([0.5288])), ('bias', tensor([0.3718]))])\n",
            "true function parameters: (0.7, 0.3)\n",
            "\n",
            "epoch: 80 | Loss: 0.03132382780313492 | Test loss: 0.07232122868299484\n",
            "model parameters: OrderedDict([('weights', tensor([0.5459])), ('bias', tensor([0.3648]))])\n",
            "true function parameters: (0.7, 0.3)\n",
            "\n",
            "epoch: 90 | Loss: 0.02788739837706089 | Test loss: 0.06473556160926819\n",
            "model parameters: OrderedDict([('weights', tensor([0.5629])), ('bias', tensor([0.3573]))])\n",
            "true function parameters: (0.7, 0.3)\n",
            "\n",
            "epoch: 100 | Loss: 0.024458957836031914 | Test loss: 0.05646304413676262\n",
            "model parameters: OrderedDict([('weights', tensor([0.5800])), ('bias', tensor([0.3503]))])\n",
            "true function parameters: (0.7, 0.3)\n",
            "\n",
            "epoch: 110 | Loss: 0.021020207554101944 | Test loss: 0.04819049686193466\n",
            "model parameters: OrderedDict([('weights', tensor([0.5972])), ('bias', tensor([0.3433]))])\n",
            "true function parameters: (0.7, 0.3)\n",
            "\n",
            "epoch: 120 | Loss: 0.01758546568453312 | Test loss: 0.04060482233762741\n",
            "model parameters: OrderedDict([('weights', tensor([0.6141])), ('bias', tensor([0.3358]))])\n",
            "true function parameters: (0.7, 0.3)\n",
            "\n",
            "epoch: 130 | Loss: 0.014155393466353416 | Test loss: 0.03233227878808975\n",
            "model parameters: OrderedDict([('weights', tensor([0.6313])), ('bias', tensor([0.3288]))])\n",
            "true function parameters: (0.7, 0.3)\n",
            "\n",
            "epoch: 140 | Loss: 0.010716589167714119 | Test loss: 0.024059748277068138\n",
            "model parameters: OrderedDict([('weights', tensor([0.6485])), ('bias', tensor([0.3218]))])\n",
            "true function parameters: (0.7, 0.3)\n",
            "\n",
            "epoch: 150 | Loss: 0.0072835334576666355 | Test loss: 0.016474086791276932\n",
            "model parameters: OrderedDict([('weights', tensor([0.6654])), ('bias', tensor([0.3143]))])\n",
            "true function parameters: (0.7, 0.3)\n",
            "\n",
            "epoch: 160 | Loss: 0.0038517764769494534 | Test loss: 0.008201557211577892\n",
            "model parameters: OrderedDict([('weights', tensor([0.6826])), ('bias', tensor([0.3073]))])\n",
            "true function parameters: (0.7, 0.3)\n",
            "\n",
            "epoch: 170 | Loss: 0.008932482451200485 | Test loss: 0.005023092031478882\n",
            "model parameters: OrderedDict([('weights', tensor([0.6951])), ('bias', tensor([0.2993]))])\n",
            "true function parameters: (0.7, 0.3)\n",
            "\n",
            "epoch: 180 | Loss: 0.008932482451200485 | Test loss: 0.005023092031478882\n",
            "model parameters: OrderedDict([('weights', tensor([0.6951])), ('bias', tensor([0.2993]))])\n",
            "true function parameters: (0.7, 0.3)\n",
            "\n",
            "epoch: 190 | Loss: 0.008932482451200485 | Test loss: 0.005023092031478882\n",
            "model parameters: OrderedDict([('weights', tensor([0.6951])), ('bias', tensor([0.2993]))])\n",
            "true function parameters: (0.7, 0.3)\n",
            "\n"
          ]
        }
      ]
    },
    {
      "cell_type": "code",
      "source": [
        "with torch.inference_mode():\n",
        "  y_preds_new = model_0(X_test)\n",
        "  plot_predictions(predictions = y_preds_new)"
      ],
      "metadata": {
        "colab": {
          "base_uri": "https://localhost:8080/",
          "height": 430
        },
        "id": "Mpd_i3lunSTM",
        "outputId": "af01a3aa-f6b0-4ee9-f4fa-4f898a5c1a4a"
      },
      "execution_count": 224,
      "outputs": [
        {
          "output_type": "display_data",
          "data": {
            "text/plain": [
              "<Figure size 640x480 with 1 Axes>"
            ],
            "image/png": "[encoded data removed]"
          },
          "metadata": {}
        }
      ]
    },
    {
      "cell_type": "code",
      "source": [
        "import numpy as np\n",
        "\n",
        "# plotting loss curves\n",
        "plt.plot(epoch_count, np.array(torch.tensor(loss_values).numpy()), label = 'train loss')\n",
        "plt.plot(epoch_count, test_loss_values, label = 'test loss')\n",
        "plt.title('training and test loss curves')\n",
        "plt.ylabel('loss')\n",
        "plt.xlabel('epoch')\n",
        "plt.legend();"
      ],
      "metadata": {
        "colab": {
          "base_uri": "https://localhost:8080/",
          "height": 472
        },
        "id": "iH5rltqTph3g",
        "outputId": "469ebd09-4351-4bc9-9a7a-86a8aa196b62"
      },
      "execution_count": 232,
      "outputs": [
        {
          "output_type": "display_data",
          "data": {
            "text/plain": [
              "<Figure size 640x480 with 1 Axes>"
            ],
            "image/png": "[encoded data removed]"
          },
          "metadata": {}
        }
      ]
    },
    {
      "cell_type": "code",
      "source": [],
      "metadata": {
        "id": "CF84wkayzMMn"
      },
      "execution_count": null,
      "outputs": []
    }
  ]
}