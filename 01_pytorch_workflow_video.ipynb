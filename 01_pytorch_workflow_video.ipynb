{
  "nbformat": 4,
  "nbformat_minor": 0,
  "metadata": {
    "colab": {
      "provenance": [],
      "authorship_tag": "ABX9TyNr/f8e3CAc0/EnxdSQ63TL",
      "include_colab_link": true
    },
    "kernelspec": {
      "name": "python3",
      "display_name": "Python 3"
    },
    "language_info": {
      "name": "python"
    }
  },
  "cells": [
    {
      "cell_type": "markdown",
      "metadata": {
        "id": "view-in-github",
        "colab_type": "text"
      },
      "source": [
        "<a href=\"https://colab.research.google.com/github/froestiago/pytorch-course/blob/main/01_pytorch_workflow_video.ipynb\" target=\"_parent\"><img src=\"https://colab.research.google.com/assets/colab-badge.svg\" alt=\"Open In Colab\"/></a>"
      ]
    },
    {
      "cell_type": "markdown",
      "source": [
        "# pytorch workflow\n",
        "\n",
        "resources:\n",
        "  book - https://www.learnpytorch.io/01_pytorch_workflow/"
      ],
      "metadata": {
        "id": "8i5AWsR1ndxJ"
      }
    },
    {
      "cell_type": "code",
      "source": [
        "what_were_covering = {1: \"data (prepare & load)\",\n",
        "                      2: \"build model\",\n",
        "                      3: \"fitting the model to data (training)\",\n",
        "                      4: \"making prediction and evaluating a model (inference)\",\n",
        "                      5: \"saving and loading a model\",\n",
        "                      6: \"putting it all together\"}\n"
      ],
      "metadata": {
        "id": "Y3n3LjEdo7Bj"
      },
      "execution_count": 1,
      "outputs": []
    },
    {
      "cell_type": "code",
      "source": [
        "import torch\n",
        "from torch import nn\n",
        "import matplotlib.pyplot as plt"
      ],
      "metadata": {
        "id": "7yD64GfLqebX"
      },
      "execution_count": 2,
      "outputs": []
    },
    {
      "cell_type": "markdown",
      "source": [
        "## 1. Data (preparing & loading)\n",
        "\n",
        "data can be almost anything... in machine learning\n",
        "* spreadsheet\n",
        "* images\n",
        "* videos\n",
        "* audio (songs and podcasts)\n",
        "* DNA (!!!)\n",
        "* text\n",
        "\n",
        "machine larning is a game of two parts:\n",
        "1. get data into a numerical representation\n",
        "2. build a model to learn patterns in that numerical representation\n",
        "\n",
        "to showcase this, let's create some *known* data using linear regression formula\n",
        "\n",
        "we'll use a linear regression formula to make a straight line with *know* **parameters**\n",
        "\n"
      ],
      "metadata": {
        "id": "u-14V5xhrIir"
      }
    },
    {
      "cell_type": "code",
      "source": [
        "# create known parameters\n",
        "\n",
        "weight = 0.7\n",
        "bias = 0.3\n",
        "\n",
        "# create data\n",
        "start = 0\n",
        "end = 1\n",
        "step = 0.02\n",
        "\n",
        "X = torch.arange(start, end, step).unsqueeze(dim=1)\n",
        "y = weight * X + bias"
      ],
      "metadata": {
        "id": "X2tYCiWTsiY7"
      },
      "execution_count": 3,
      "outputs": []
    },
    {
      "cell_type": "code",
      "source": [
        "print(f'X[:10]: {X[:10]}')\n",
        "print(f'len(X): {len(X)} \\n')\n",
        "print(f'y[:10]: {y[:10]}')\n",
        "print(f'len(y): {len(y)}')"
      ],
      "metadata": {
        "colab": {
          "base_uri": "https://localhost:8080/"
        },
        "id": "b367VUQ3s_nq",
        "outputId": "f9b0071f-15af-4ab0-96fd-027400304d44"
      },
      "execution_count": 4,
      "outputs": [
        {
          "output_type": "stream",
          "name": "stdout",
          "text": [
            "X[:10]: tensor([[0.0000],\n",
            "        [0.0200],\n",
            "        [0.0400],\n",
            "        [0.0600],\n",
            "        [0.0800],\n",
            "        [0.1000],\n",
            "        [0.1200],\n",
            "        [0.1400],\n",
            "        [0.1600],\n",
            "        [0.1800]])\n",
            "len(X): 50 \n",
            "\n",
            "y[:10]: tensor([[0.3000],\n",
            "        [0.3140],\n",
            "        [0.3280],\n",
            "        [0.3420],\n",
            "        [0.3560],\n",
            "        [0.3700],\n",
            "        [0.3840],\n",
            "        [0.3980],\n",
            "        [0.4120],\n",
            "        [0.4260]])\n",
            "len(y): 50\n"
          ]
        }
      ]
    },
    {
      "cell_type": "markdown",
      "source": [
        "### splitting data into training and test sets"
      ],
      "metadata": {
        "id": "nLO6N_ORtSg2"
      }
    },
    {
      "cell_type": "code",
      "source": [
        "# creating train & test split\n",
        "train_split = int(0.8 * len(X))\n",
        "X_train, y_train = X[:train_split], y[:train_split]\n",
        "X_test, y_test = X[train_split:], y[train_split:]\n",
        "\n",
        "print(f'X_train size: {len(X_train)}')\n",
        "print(f'y_train size: {len(y_train)}')\n",
        "print(f'X_test size: {len(X_test)}')\n",
        "print(f'y_test size: {len(y_test)}')"
      ],
      "metadata": {
        "colab": {
          "base_uri": "https://localhost:8080/"
        },
        "id": "uProNL8GuEk2",
        "outputId": "4a9f7770-1bca-4e26-e91f-e150e6090d1a"
      },
      "execution_count": 5,
      "outputs": [
        {
          "output_type": "stream",
          "name": "stdout",
          "text": [
            "X_train size: 40\n",
            "y_train size: 40\n",
            "X_test size: 10\n",
            "y_test size: 10\n"
          ]
        }
      ]
    },
    {
      "cell_type": "markdown",
      "source": [
        "Visualizing data!"
      ],
      "metadata": {
        "id": "hFIyJnfNvvTa"
      }
    },
    {
      "cell_type": "code",
      "source": [
        "def plot_predictions(train_data = X_train,\n",
        "                     train_labels = y_train,\n",
        "                     test_data = X_test,\n",
        "                     test_labels = y_test,\n",
        "                     predictions = None):\n",
        "\n",
        "  \"\"\"\n",
        "  plots training, test data and predictions\n",
        "  \"\"\"\n",
        "\n",
        "  # plot training data in blue\n",
        "  plt.scatter(train_data, train_labels, c = \"b\", s = 4, label = \"training data\")\n",
        "\n",
        "  #plot test data in green\n",
        "  plt.scatter(test_data, test_labels, c = 'g', s = 4, label = 'testing data')\n",
        "\n",
        "  # are there predictions?\n",
        "  if predictions is not None:\n",
        "    #plot prediction if they exist\n",
        "    plt.scatter(test_data, predictions, c = 'r', s = 4, label = 'predictions')\n",
        "\n",
        "  plt.legend(prop = {'size': 14})\n"
      ],
      "metadata": {
        "id": "3-88RPiExhXK"
      },
      "execution_count": 6,
      "outputs": []
    },
    {
      "cell_type": "code",
      "source": [
        "plot_predictions();"
      ],
      "metadata": {
        "colab": {
          "base_uri": "https://localhost:8080/",
          "height": 430
        },
        "id": "zOoywrA1zCDl",
        "outputId": "a9c1b018-622c-40d0-b738-88ea3c33a7b3"
      },
      "execution_count": 7,
      "outputs": [
        {
          "output_type": "display_data",
          "data": {
            "text/plain": [
              "<Figure size 640x480 with 1 Axes>"
            ],
            "image/png": "[encoded data removed]"
          },
          "metadata": {}
        }
      ]
    },
    {
      "cell_type": "markdown",
      "source": [
        "## 2. building model"
      ],
      "metadata": {
        "id": "0KaApkB0zIRh"
      }
    },
    {
      "cell_type": "code",
      "source": [
        "# creating linear regression model class\n",
        "\n",
        "class LinearRegressionModel(nn.Module):\n",
        "  def __init__(self):\n",
        "    super().__init__()\n",
        "    self.weights = nn.Parameter(torch.randn(1,\n",
        "                                            requires_grad = True,\n",
        "                                            dtype = torch.float32))\n",
        "    self.bias = nn.Parameter(torch.randn(1,\n",
        "                                         requires_grad = True,\n",
        "                                         dtype = torch.float32))\n",
        "\n",
        "  #forward method to define the computation in the model\n",
        "  def forward(self, x: torch.Tensor) -> torch.Tensor:\n",
        "    return self.weights * x + self.bias # linear regression formula\n",
        "\n"
      ],
      "metadata": {
        "id": "dM1fv8Ts0ILp"
      },
      "execution_count": 8,
      "outputs": []
    },
    {
      "cell_type": "markdown",
      "source": [
        "### pytorch model building essentials\n",
        "\n",
        "* torch.nn\n",
        "* torchn.nn.Parameters\n",
        "..."
      ],
      "metadata": {
        "id": "M-YNDI_H2pRU"
      }
    },
    {
      "cell_type": "code",
      "source": [
        "#cheking out our model\n",
        "\n",
        "# random seed\n",
        "torch.manual_seed(42)\n",
        "\n",
        "# creating a instance of our model\n",
        "\n",
        "model_0 = LinearRegressionModel()\n",
        "\n",
        "# check out the parameters\n",
        "list(model_0.parameters())"
      ],
      "metadata": {
        "colab": {
          "base_uri": "https://localhost:8080/"
        },
        "id": "UlvTcr827BJj",
        "outputId": "a686e911-48c6-4b20-9cee-07f5a7ab8dd3"
      },
      "execution_count": 9,
      "outputs": [
        {
          "output_type": "execute_result",
          "data": {
            "text/plain": [
              "[Parameter containing:\n",
              " tensor([0.3367], requires_grad=True),\n",
              " Parameter containing:\n",
              " tensor([0.1288], requires_grad=True)]"
            ]
          },
          "metadata": {},
          "execution_count": 9
        }
      ]
    },
    {
      "cell_type": "code",
      "source": [
        "# List named parameters\n",
        "print(model_0.state_dict())"
      ],
      "metadata": {
        "colab": {
          "base_uri": "https://localhost:8080/"
        },
        "id": "YGRqM8mM8A8x",
        "outputId": "5b5545c9-879c-469a-ecdb-b6e599ec0f46"
      },
      "execution_count": 10,
      "outputs": [
        {
          "output_type": "stream",
          "name": "stdout",
          "text": [
            "OrderedDict([('weights', tensor([0.3367])), ('bias', tensor([0.1288]))])\n"
          ]
        }
      ]
    },
    {
      "cell_type": "markdown",
      "source": [
        "### making predictions using `torch.inference_mode()`"
      ],
      "metadata": {
        "id": "k7UtwkIC82rq"
      }
    },
    {
      "cell_type": "code",
      "source": [
        "print(X_test)\n",
        "print(y_test)"
      ],
      "metadata": {
        "colab": {
          "base_uri": "https://localhost:8080/"
        },
        "id": "8BircTvD981W",
        "outputId": "96795081-3143-4002-cb8b-75b452ca6f2f"
      },
      "execution_count": 11,
      "outputs": [
        {
          "output_type": "stream",
          "name": "stdout",
          "text": [
            "tensor([[0.8000],\n",
            "        [0.8200],\n",
            "        [0.8400],\n",
            "        [0.8600],\n",
            "        [0.8800],\n",
            "        [0.9000],\n",
            "        [0.9200],\n",
            "        [0.9400],\n",
            "        [0.9600],\n",
            "        [0.9800]])\n",
            "tensor([[0.8600],\n",
            "        [0.8740],\n",
            "        [0.8880],\n",
            "        [0.9020],\n",
            "        [0.9160],\n",
            "        [0.9300],\n",
            "        [0.9440],\n",
            "        [0.9580],\n",
            "        [0.9720],\n",
            "        [0.9860]])\n"
          ]
        }
      ]
    },
    {
      "cell_type": "code",
      "source": [
        "with torch.inference_mode():\n",
        "  y_preds = model_0(X_test)\n",
        "\n",
        "print(y_preds)"
      ],
      "metadata": {
        "colab": {
          "base_uri": "https://localhost:8080/"
        },
        "id": "wxu_5Q1u9ixm",
        "outputId": "2c6eb735-399b-42aa-bf27-13baf39ddeb6"
      },
      "execution_count": 12,
      "outputs": [
        {
          "output_type": "stream",
          "name": "stdout",
          "text": [
            "tensor([[0.3982],\n",
            "        [0.4049],\n",
            "        [0.4116],\n",
            "        [0.4184],\n",
            "        [0.4251],\n",
            "        [0.4318],\n",
            "        [0.4386],\n",
            "        [0.4453],\n",
            "        [0.4520],\n",
            "        [0.4588]])\n"
          ]
        }
      ]
    },
    {
      "cell_type": "code",
      "source": [
        "plot_predictions(predictions = y_preds)"
      ],
      "metadata": {
        "colab": {
          "base_uri": "https://localhost:8080/",
          "height": 430
        },
        "id": "J491CFao-ArU",
        "outputId": "cf32bbc8-4882-4ea3-8617-aa004c0c5011"
      },
      "execution_count": 13,
      "outputs": [
        {
          "output_type": "display_data",
          "data": {
            "text/plain": [
              "<Figure size 640x480 with 1 Axes>"
            ],
            "image/png": "[encoded data removed]"
          },
          "metadata": {}
        }
      ]
    },
    {
      "cell_type": "markdown",
      "source": [
        "## 3. training!\n",
        "\n",
        "fit the random parameters of the model to the real parameters of the function\n",
        "\n",
        "and some stuff about loss functions and optimizers"
      ],
      "metadata": {
        "id": "IRk8EGnJ-3TT"
      }
    },
    {
      "cell_type": "code",
      "source": [
        "# setting up a loss function\n",
        "loss_fn = nn.L1Loss()\n",
        "\n",
        "\n",
        "# setting up an optimizer (stochastic gradient descent)\n",
        "optimizer = torch.optim.SGD(params = model_0.parameters(),\n",
        "                            lr = 0.01)\n"
      ],
      "metadata": {
        "id": "24DWguOpYrJW"
      },
      "execution_count": 17,
      "outputs": []
    },
    {
      "cell_type": "markdown",
      "source": [
        "### Build a training and testing loop\n",
        "\n",
        "0. loop trhough the data\n",
        "1. forward pass | make predictions\n",
        "2. getting loss | compare predictions to GT (ground truth)\n",
        "3. optimizer zero grad\n",
        "4. loss backward (backpropagation_\n",
        "5. optimizer step (gradient descent)"
      ],
      "metadata": {
        "id": "RXli63MKbVlf"
      }
    },
    {
      "cell_type": "code",
      "source": [
        "epochs = 1\n",
        "\n",
        "for epoch in range(epochs):\n",
        "  # Set the model to training mode\n",
        "  model_0.train() # Train mode sets all parameters to require gradients\n",
        "\n",
        "  # 1. Forward pass\n",
        "  y_pred = model_0(X_train)\n",
        "\n",
        "  # 2. Loss\n",
        "  loss = loss_fn(y_pred, y_train)\n",
        "\n",
        "  # 3. Optimizer zero grad\n",
        "  optimizer.zero_grad()\n",
        "\n",
        "  # 4. Perform backpropagation with the loss values\n",
        "  loss.backward()\n",
        "\n",
        "  # 5. Step the optimizer\n",
        "  optimizer.step()\n",
        "\n",
        "  # model_0.eval() # Turn gradients off"
      ],
      "metadata": {
        "id": "yAaI7u_weA_s"
      },
      "execution_count": null,
      "outputs": []
    }
  ]
}